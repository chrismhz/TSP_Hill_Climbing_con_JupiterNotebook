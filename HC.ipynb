{
  "nbformat": 4,
  "nbformat_minor": 0,
  "metadata": {
    "colab": {
      "provenance": [],
      "authorship_tag": "ABX9TyNJDQdjqSZLkG6iaPSJq/lX",
      "include_colab_link": true
    },
    "kernelspec": {
      "name": "python3",
      "display_name": "Python 3"
    },
    "language_info": {
      "name": "python"
    }
  },
  "cells": [
    {
      "cell_type": "markdown",
      "metadata": {
        "id": "view-in-github",
        "colab_type": "text"
      },
      "source": [
        "<a href=\"https://colab.research.google.com/github/chrismhz/TSP_Hill_Climbing_con_JupiterNotebook/blob/main/HC.ipynb\" target=\"_parent\"><img src=\"https://colab.research.google.com/assets/colab-badge.svg\" alt=\"Open In Colab\"/></a>"
      ]
    },
    {
      "cell_type": "code",
      "execution_count": null,
      "metadata": {
        "colab": {
          "base_uri": "https://localhost:8080/"
        },
        "id": "M92Apoo4tFqw",
        "outputId": "f1aa11ef-e25f-43b9-90c0-c8930e7d2830"
      },
      "outputs": [
        {
          "output_type": "stream",
          "name": "stdout",
          "text": [
            "['Cancun', 'Atlacomulco', 'Morelia', 'Querétaro', 'Monterrey', 'Aguascalientes', 'Jilotepec', 'Toluca', 'CDMX', 'Guadalajara']\n",
            "Distancia tota: 3481.8337830283544\n"
          ]
        }
      ],
      "source": [
        "# TSP con Hill Climbing\n",
        "\n",
        "import math\n",
        "import random\n",
        "\n",
        "# Obtencion de la distancia mas corta\n",
        "def distancia(coord1, coord2):\n",
        "    lat1 = coord1[0]\n",
        "    lon1 = coord1[1]\n",
        "    lat2 = coord2[0]\n",
        "    lon2 = coord2[1]\n",
        "    return math.sqrt((lat1 - lat2)**2 + (lon1 + lon2)**2)\n",
        "\n",
        "# Calcular la distancia cubierta por cada ruta\n",
        "\n",
        "def evalua_ruta(ruta):\n",
        "    total = 0\n",
        "    for i in range(0, len(ruta)-1):\n",
        "        ciudad1 = ruta[i]\n",
        "        ciudad2 = ruta[i+1]\n",
        "        total = total + distancia(coord[ciudad1], coord[ciudad2])\n",
        "        ciudad1 = ruta[i+1]\n",
        "        ciudad2 = ruta[0]\n",
        "        total = total + distancia(coord[ciudad1], coord[ciudad2])\n",
        "    return total\n",
        "\n",
        "def hill_climbing():\n",
        "    # Crear la ruta inicial Aleatoria\n",
        "    ruta = []\n",
        "    for ciudad in coord:\n",
        "        ruta.append(ciudad)\n",
        "    random.shuffle(ruta)\n",
        "\n",
        "    mejora = True\n",
        "    while mejora:\n",
        "        mejora = False\n",
        "        dist_actual = evalua_ruta(ruta)\n",
        "        # Evaluar residuos\n",
        "        for i in range(0, len(ruta)):\n",
        "            if mejora:\n",
        "                break\n",
        "            for j in range(0, len(ruta)):\n",
        "                if i!= j:\n",
        "                    ruta_tmp = ruta[:]\n",
        "                    ciudad_tmp = ruta[i]\n",
        "                    ruta_tmp[i] = ruta_tmp[j]\n",
        "                    ruta_tmp[j] = ciudad_tmp\n",
        "                    dist = evalua_ruta(ruta_tmp)\n",
        "                    if dist < dist_actual:\n",
        "                        # Se ha encontrado un vecino que mejora tu vida el resultado\n",
        "                        mejora = True\n",
        "                        ruta = ruta_tmp[:]\n",
        "                        break\n",
        "    return ruta\n",
        "\n",
        "if __name__ == \"__main__\":\n",
        "    coord = {\n",
        "        'Jilotepec': (19.984146, -99.519127),\n",
        "        'Toluca': (19.283389, -99.651294),\n",
        "        'Atlacomulco': (19.797032, -99.875878),\n",
        "        'Guadalajara': (20.666006, -103.343649),\n",
        "        'Monterrey': (25.687299, -100.315655),\n",
        "        'Cancun': (21.080865, -86.773482),\n",
        "        'Morelia': (19.706167, -101.191413),\n",
        "        'Aguascalientes': (21.861534, -102.321629),\n",
        "        'Querétaro': (20.614858, -100.392965),\n",
        "        'CDMX': (19.432361, -99.133111),\n",
        "    }\n",
        "\n",
        "ruta = hill_climbing()\n",
        "print(ruta)\n",
        "print(\"Distancia tota: \" + str(evalua_ruta(ruta)))"
      ]
    }
  ]
}